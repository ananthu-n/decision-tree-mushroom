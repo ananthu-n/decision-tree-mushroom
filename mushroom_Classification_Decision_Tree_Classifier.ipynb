{
  "metadata": {
    "kernelspec": {
      "language": "python",
      "display_name": "Python 3",
      "name": "python3"
    },
    "language_info": {
      "pygments_lexer": "ipython3",
      "nbconvert_exporter": "python",
      "version": "3.6.4",
      "file_extension": ".py",
      "codemirror_mode": {
        "name": "ipython",
        "version": 3
      },
      "name": "python",
      "mimetype": "text/x-python"
    },
    "colab": {
      "name": "mushroom Classification-Decision Tree Classifier",
      "provenance": []
    }
  },
  "nbformat_minor": 0,
  "nbformat": 4,
  "cells": [
    {
      "cell_type": "markdown",
      "source": [
        "Importing libraries"
      ],
      "metadata": {
        "id": "q7ThD5pnwgrp"
      }
    },
    {
      "cell_type": "code",
      "source": [
        "import numpy as np\n",
        "import pandas as pd\n",
        "import matplotlib.pyplot as plt\n",
        "import seaborn  as sns"
      ],
      "metadata": {
        "execution": {
          "iopub.status.busy": "2022-01-05T06:23:47.816778Z",
          "iopub.execute_input": "2022-01-05T06:23:47.817445Z",
          "iopub.status.idle": "2022-01-05T06:23:48.739139Z",
          "shell.execute_reply.started": "2022-01-05T06:23:47.817352Z",
          "shell.execute_reply": "2022-01-05T06:23:48.738368Z"
        },
        "trusted": true,
        "id": "feP2JrvUwgrp"
      },
      "execution_count": 1,
      "outputs": []
    },
    {
      "cell_type": "markdown",
      "source": [
        "Importing data set"
      ],
      "metadata": {
        "id": "qy_veXyewgrq"
      }
    },
    {
      "cell_type": "code",
      "source": [
        "dataset = pd.read_csv('/content/archive (5).zip')"
      ],
      "metadata": {
        "execution": {
          "iopub.status.busy": "2022-01-05T06:23:48.740277Z",
          "iopub.execute_input": "2022-01-05T06:23:48.740733Z",
          "iopub.status.idle": "2022-01-05T06:23:48.784118Z",
          "shell.execute_reply.started": "2022-01-05T06:23:48.740703Z",
          "shell.execute_reply": "2022-01-05T06:23:48.78335Z"
        },
        "trusted": true,
        "id": "FTR7wCExwgrq"
      },
      "execution_count": 2,
      "outputs": []
    },
    {
      "cell_type": "code",
      "source": [
        "#To see the first five rows of the dataset we can use dataset.head()\n",
        "dataset.head()"
      ],
      "metadata": {
        "execution": {
          "iopub.status.busy": "2022-01-05T06:23:59.29696Z",
          "iopub.execute_input": "2022-01-05T06:23:59.297605Z",
          "iopub.status.idle": "2022-01-05T06:23:59.316379Z",
          "shell.execute_reply.started": "2022-01-05T06:23:59.297567Z",
          "shell.execute_reply": "2022-01-05T06:23:59.315365Z"
        },
        "trusted": true,
        "id": "KqPnTHkzwgrr",
        "outputId": "85fd6585-7525-4d9c-fba2-940d176bd7dd",
        "colab": {
          "base_uri": "https://localhost:8080/",
          "height": 308
        }
      },
      "execution_count": 3,
      "outputs": [
        {
          "output_type": "execute_result",
          "data": {
            "text/plain": [
              "  class cap-shape cap-surface cap-color bruises odor gill-attachment  \\\n",
              "0     p         x           s         n       t    p               f   \n",
              "1     e         x           s         y       t    a               f   \n",
              "2     e         b           s         w       t    l               f   \n",
              "3     p         x           y         w       t    p               f   \n",
              "4     e         x           s         g       f    n               f   \n",
              "\n",
              "  gill-spacing gill-size gill-color  ... stalk-surface-below-ring  \\\n",
              "0            c         n          k  ...                        s   \n",
              "1            c         b          k  ...                        s   \n",
              "2            c         b          n  ...                        s   \n",
              "3            c         n          n  ...                        s   \n",
              "4            w         b          k  ...                        s   \n",
              "\n",
              "  stalk-color-above-ring stalk-color-below-ring veil-type veil-color  \\\n",
              "0                      w                      w         p          w   \n",
              "1                      w                      w         p          w   \n",
              "2                      w                      w         p          w   \n",
              "3                      w                      w         p          w   \n",
              "4                      w                      w         p          w   \n",
              "\n",
              "  ring-number ring-type spore-print-color population habitat  \n",
              "0           o         p                 k          s       u  \n",
              "1           o         p                 n          n       g  \n",
              "2           o         p                 n          n       m  \n",
              "3           o         p                 k          s       u  \n",
              "4           o         e                 n          a       g  \n",
              "\n",
              "[5 rows x 23 columns]"
            ],
            "text/html": [
              "\n",
              "  <div id=\"df-9223580b-a3c1-408a-9612-ea020f4d1b53\" class=\"colab-df-container\">\n",
              "    <div>\n",
              "<style scoped>\n",
              "    .dataframe tbody tr th:only-of-type {\n",
              "        vertical-align: middle;\n",
              "    }\n",
              "\n",
              "    .dataframe tbody tr th {\n",
              "        vertical-align: top;\n",
              "    }\n",
              "\n",
              "    .dataframe thead th {\n",
              "        text-align: right;\n",
              "    }\n",
              "</style>\n",
              "<table border=\"1\" class=\"dataframe\">\n",
              "  <thead>\n",
              "    <tr style=\"text-align: right;\">\n",
              "      <th></th>\n",
              "      <th>class</th>\n",
              "      <th>cap-shape</th>\n",
              "      <th>cap-surface</th>\n",
              "      <th>cap-color</th>\n",
              "      <th>bruises</th>\n",
              "      <th>odor</th>\n",
              "      <th>gill-attachment</th>\n",
              "      <th>gill-spacing</th>\n",
              "      <th>gill-size</th>\n",
              "      <th>gill-color</th>\n",
              "      <th>...</th>\n",
              "      <th>stalk-surface-below-ring</th>\n",
              "      <th>stalk-color-above-ring</th>\n",
              "      <th>stalk-color-below-ring</th>\n",
              "      <th>veil-type</th>\n",
              "      <th>veil-color</th>\n",
              "      <th>ring-number</th>\n",
              "      <th>ring-type</th>\n",
              "      <th>spore-print-color</th>\n",
              "      <th>population</th>\n",
              "      <th>habitat</th>\n",
              "    </tr>\n",
              "  </thead>\n",
              "  <tbody>\n",
              "    <tr>\n",
              "      <th>0</th>\n",
              "      <td>p</td>\n",
              "      <td>x</td>\n",
              "      <td>s</td>\n",
              "      <td>n</td>\n",
              "      <td>t</td>\n",
              "      <td>p</td>\n",
              "      <td>f</td>\n",
              "      <td>c</td>\n",
              "      <td>n</td>\n",
              "      <td>k</td>\n",
              "      <td>...</td>\n",
              "      <td>s</td>\n",
              "      <td>w</td>\n",
              "      <td>w</td>\n",
              "      <td>p</td>\n",
              "      <td>w</td>\n",
              "      <td>o</td>\n",
              "      <td>p</td>\n",
              "      <td>k</td>\n",
              "      <td>s</td>\n",
              "      <td>u</td>\n",
              "    </tr>\n",
              "    <tr>\n",
              "      <th>1</th>\n",
              "      <td>e</td>\n",
              "      <td>x</td>\n",
              "      <td>s</td>\n",
              "      <td>y</td>\n",
              "      <td>t</td>\n",
              "      <td>a</td>\n",
              "      <td>f</td>\n",
              "      <td>c</td>\n",
              "      <td>b</td>\n",
              "      <td>k</td>\n",
              "      <td>...</td>\n",
              "      <td>s</td>\n",
              "      <td>w</td>\n",
              "      <td>w</td>\n",
              "      <td>p</td>\n",
              "      <td>w</td>\n",
              "      <td>o</td>\n",
              "      <td>p</td>\n",
              "      <td>n</td>\n",
              "      <td>n</td>\n",
              "      <td>g</td>\n",
              "    </tr>\n",
              "    <tr>\n",
              "      <th>2</th>\n",
              "      <td>e</td>\n",
              "      <td>b</td>\n",
              "      <td>s</td>\n",
              "      <td>w</td>\n",
              "      <td>t</td>\n",
              "      <td>l</td>\n",
              "      <td>f</td>\n",
              "      <td>c</td>\n",
              "      <td>b</td>\n",
              "      <td>n</td>\n",
              "      <td>...</td>\n",
              "      <td>s</td>\n",
              "      <td>w</td>\n",
              "      <td>w</td>\n",
              "      <td>p</td>\n",
              "      <td>w</td>\n",
              "      <td>o</td>\n",
              "      <td>p</td>\n",
              "      <td>n</td>\n",
              "      <td>n</td>\n",
              "      <td>m</td>\n",
              "    </tr>\n",
              "    <tr>\n",
              "      <th>3</th>\n",
              "      <td>p</td>\n",
              "      <td>x</td>\n",
              "      <td>y</td>\n",
              "      <td>w</td>\n",
              "      <td>t</td>\n",
              "      <td>p</td>\n",
              "      <td>f</td>\n",
              "      <td>c</td>\n",
              "      <td>n</td>\n",
              "      <td>n</td>\n",
              "      <td>...</td>\n",
              "      <td>s</td>\n",
              "      <td>w</td>\n",
              "      <td>w</td>\n",
              "      <td>p</td>\n",
              "      <td>w</td>\n",
              "      <td>o</td>\n",
              "      <td>p</td>\n",
              "      <td>k</td>\n",
              "      <td>s</td>\n",
              "      <td>u</td>\n",
              "    </tr>\n",
              "    <tr>\n",
              "      <th>4</th>\n",
              "      <td>e</td>\n",
              "      <td>x</td>\n",
              "      <td>s</td>\n",
              "      <td>g</td>\n",
              "      <td>f</td>\n",
              "      <td>n</td>\n",
              "      <td>f</td>\n",
              "      <td>w</td>\n",
              "      <td>b</td>\n",
              "      <td>k</td>\n",
              "      <td>...</td>\n",
              "      <td>s</td>\n",
              "      <td>w</td>\n",
              "      <td>w</td>\n",
              "      <td>p</td>\n",
              "      <td>w</td>\n",
              "      <td>o</td>\n",
              "      <td>e</td>\n",
              "      <td>n</td>\n",
              "      <td>a</td>\n",
              "      <td>g</td>\n",
              "    </tr>\n",
              "  </tbody>\n",
              "</table>\n",
              "<p>5 rows × 23 columns</p>\n",
              "</div>\n",
              "    <div class=\"colab-df-buttons\">\n",
              "\n",
              "  <div class=\"colab-df-container\">\n",
              "    <button class=\"colab-df-convert\" onclick=\"convertToInteractive('df-9223580b-a3c1-408a-9612-ea020f4d1b53')\"\n",
              "            title=\"Convert this dataframe to an interactive table.\"\n",
              "            style=\"display:none;\">\n",
              "\n",
              "  <svg xmlns=\"http://www.w3.org/2000/svg\" height=\"24px\" viewBox=\"0 -960 960 960\">\n",
              "    <path d=\"M120-120v-720h720v720H120Zm60-500h600v-160H180v160Zm220 220h160v-160H400v160Zm0 220h160v-160H400v160ZM180-400h160v-160H180v160Zm440 0h160v-160H620v160ZM180-180h160v-160H180v160Zm440 0h160v-160H620v160Z\"/>\n",
              "  </svg>\n",
              "    </button>\n",
              "\n",
              "  <style>\n",
              "    .colab-df-container {\n",
              "      display:flex;\n",
              "      gap: 12px;\n",
              "    }\n",
              "\n",
              "    .colab-df-convert {\n",
              "      background-color: #E8F0FE;\n",
              "      border: none;\n",
              "      border-radius: 50%;\n",
              "      cursor: pointer;\n",
              "      display: none;\n",
              "      fill: #1967D2;\n",
              "      height: 32px;\n",
              "      padding: 0 0 0 0;\n",
              "      width: 32px;\n",
              "    }\n",
              "\n",
              "    .colab-df-convert:hover {\n",
              "      background-color: #E2EBFA;\n",
              "      box-shadow: 0px 1px 2px rgba(60, 64, 67, 0.3), 0px 1px 3px 1px rgba(60, 64, 67, 0.15);\n",
              "      fill: #174EA6;\n",
              "    }\n",
              "\n",
              "    .colab-df-buttons div {\n",
              "      margin-bottom: 4px;\n",
              "    }\n",
              "\n",
              "    [theme=dark] .colab-df-convert {\n",
              "      background-color: #3B4455;\n",
              "      fill: #D2E3FC;\n",
              "    }\n",
              "\n",
              "    [theme=dark] .colab-df-convert:hover {\n",
              "      background-color: #434B5C;\n",
              "      box-shadow: 0px 1px 3px 1px rgba(0, 0, 0, 0.15);\n",
              "      filter: drop-shadow(0px 1px 2px rgba(0, 0, 0, 0.3));\n",
              "      fill: #FFFFFF;\n",
              "    }\n",
              "  </style>\n",
              "\n",
              "    <script>\n",
              "      const buttonEl =\n",
              "        document.querySelector('#df-9223580b-a3c1-408a-9612-ea020f4d1b53 button.colab-df-convert');\n",
              "      buttonEl.style.display =\n",
              "        google.colab.kernel.accessAllowed ? 'block' : 'none';\n",
              "\n",
              "      async function convertToInteractive(key) {\n",
              "        const element = document.querySelector('#df-9223580b-a3c1-408a-9612-ea020f4d1b53');\n",
              "        const dataTable =\n",
              "          await google.colab.kernel.invokeFunction('convertToInteractive',\n",
              "                                                    [key], {});\n",
              "        if (!dataTable) return;\n",
              "\n",
              "        const docLinkHtml = 'Like what you see? Visit the ' +\n",
              "          '<a target=\"_blank\" href=https://colab.research.google.com/notebooks/data_table.ipynb>data table notebook</a>'\n",
              "          + ' to learn more about interactive tables.';\n",
              "        element.innerHTML = '';\n",
              "        dataTable['output_type'] = 'display_data';\n",
              "        await google.colab.output.renderOutput(dataTable, element);\n",
              "        const docLink = document.createElement('div');\n",
              "        docLink.innerHTML = docLinkHtml;\n",
              "        element.appendChild(docLink);\n",
              "      }\n",
              "    </script>\n",
              "  </div>\n",
              "\n",
              "\n",
              "<div id=\"df-e230661e-c941-4730-a66f-3cfafae39b09\">\n",
              "  <button class=\"colab-df-quickchart\" onclick=\"quickchart('df-e230661e-c941-4730-a66f-3cfafae39b09')\"\n",
              "            title=\"Suggest charts\"\n",
              "            style=\"display:none;\">\n",
              "\n",
              "<svg xmlns=\"http://www.w3.org/2000/svg\" height=\"24px\"viewBox=\"0 0 24 24\"\n",
              "     width=\"24px\">\n",
              "    <g>\n",
              "        <path d=\"M19 3H5c-1.1 0-2 .9-2 2v14c0 1.1.9 2 2 2h14c1.1 0 2-.9 2-2V5c0-1.1-.9-2-2-2zM9 17H7v-7h2v7zm4 0h-2V7h2v10zm4 0h-2v-4h2v4z\"/>\n",
              "    </g>\n",
              "</svg>\n",
              "  </button>\n",
              "\n",
              "<style>\n",
              "  .colab-df-quickchart {\n",
              "      --bg-color: #E8F0FE;\n",
              "      --fill-color: #1967D2;\n",
              "      --hover-bg-color: #E2EBFA;\n",
              "      --hover-fill-color: #174EA6;\n",
              "      --disabled-fill-color: #AAA;\n",
              "      --disabled-bg-color: #DDD;\n",
              "  }\n",
              "\n",
              "  [theme=dark] .colab-df-quickchart {\n",
              "      --bg-color: #3B4455;\n",
              "      --fill-color: #D2E3FC;\n",
              "      --hover-bg-color: #434B5C;\n",
              "      --hover-fill-color: #FFFFFF;\n",
              "      --disabled-bg-color: #3B4455;\n",
              "      --disabled-fill-color: #666;\n",
              "  }\n",
              "\n",
              "  .colab-df-quickchart {\n",
              "    background-color: var(--bg-color);\n",
              "    border: none;\n",
              "    border-radius: 50%;\n",
              "    cursor: pointer;\n",
              "    display: none;\n",
              "    fill: var(--fill-color);\n",
              "    height: 32px;\n",
              "    padding: 0;\n",
              "    width: 32px;\n",
              "  }\n",
              "\n",
              "  .colab-df-quickchart:hover {\n",
              "    background-color: var(--hover-bg-color);\n",
              "    box-shadow: 0 1px 2px rgba(60, 64, 67, 0.3), 0 1px 3px 1px rgba(60, 64, 67, 0.15);\n",
              "    fill: var(--button-hover-fill-color);\n",
              "  }\n",
              "\n",
              "  .colab-df-quickchart-complete:disabled,\n",
              "  .colab-df-quickchart-complete:disabled:hover {\n",
              "    background-color: var(--disabled-bg-color);\n",
              "    fill: var(--disabled-fill-color);\n",
              "    box-shadow: none;\n",
              "  }\n",
              "\n",
              "  .colab-df-spinner {\n",
              "    border: 2px solid var(--fill-color);\n",
              "    border-color: transparent;\n",
              "    border-bottom-color: var(--fill-color);\n",
              "    animation:\n",
              "      spin 1s steps(1) infinite;\n",
              "  }\n",
              "\n",
              "  @keyframes spin {\n",
              "    0% {\n",
              "      border-color: transparent;\n",
              "      border-bottom-color: var(--fill-color);\n",
              "      border-left-color: var(--fill-color);\n",
              "    }\n",
              "    20% {\n",
              "      border-color: transparent;\n",
              "      border-left-color: var(--fill-color);\n",
              "      border-top-color: var(--fill-color);\n",
              "    }\n",
              "    30% {\n",
              "      border-color: transparent;\n",
              "      border-left-color: var(--fill-color);\n",
              "      border-top-color: var(--fill-color);\n",
              "      border-right-color: var(--fill-color);\n",
              "    }\n",
              "    40% {\n",
              "      border-color: transparent;\n",
              "      border-right-color: var(--fill-color);\n",
              "      border-top-color: var(--fill-color);\n",
              "    }\n",
              "    60% {\n",
              "      border-color: transparent;\n",
              "      border-right-color: var(--fill-color);\n",
              "    }\n",
              "    80% {\n",
              "      border-color: transparent;\n",
              "      border-right-color: var(--fill-color);\n",
              "      border-bottom-color: var(--fill-color);\n",
              "    }\n",
              "    90% {\n",
              "      border-color: transparent;\n",
              "      border-bottom-color: var(--fill-color);\n",
              "    }\n",
              "  }\n",
              "</style>\n",
              "\n",
              "  <script>\n",
              "    async function quickchart(key) {\n",
              "      const quickchartButtonEl =\n",
              "        document.querySelector('#' + key + ' button');\n",
              "      quickchartButtonEl.disabled = true;  // To prevent multiple clicks.\n",
              "      quickchartButtonEl.classList.add('colab-df-spinner');\n",
              "      try {\n",
              "        const charts = await google.colab.kernel.invokeFunction(\n",
              "            'suggestCharts', [key], {});\n",
              "      } catch (error) {\n",
              "        console.error('Error during call to suggestCharts:', error);\n",
              "      }\n",
              "      quickchartButtonEl.classList.remove('colab-df-spinner');\n",
              "      quickchartButtonEl.classList.add('colab-df-quickchart-complete');\n",
              "    }\n",
              "    (() => {\n",
              "      let quickchartButtonEl =\n",
              "        document.querySelector('#df-e230661e-c941-4730-a66f-3cfafae39b09 button');\n",
              "      quickchartButtonEl.style.display =\n",
              "        google.colab.kernel.accessAllowed ? 'block' : 'none';\n",
              "    })();\n",
              "  </script>\n",
              "</div>\n",
              "\n",
              "    </div>\n",
              "  </div>\n"
            ],
            "application/vnd.google.colaboratory.intrinsic+json": {
              "type": "dataframe",
              "variable_name": "dataset"
            }
          },
          "metadata": {},
          "execution_count": 3
        }
      ]
    },
    {
      "cell_type": "code",
      "source": [
        "dataset.isnull().sum().sum()"
      ],
      "metadata": {
        "execution": {
          "iopub.status.busy": "2022-01-05T06:25:39.806634Z",
          "iopub.execute_input": "2022-01-05T06:25:39.807Z",
          "iopub.status.idle": "2022-01-05T06:25:39.833425Z",
          "shell.execute_reply.started": "2022-01-05T06:25:39.806969Z",
          "shell.execute_reply": "2022-01-05T06:25:39.832477Z"
        },
        "trusted": true,
        "id": "t9pAGn5kwgrr",
        "outputId": "358bf8f3-0994-4703-974f-9f66aa90c785",
        "colab": {
          "base_uri": "https://localhost:8080/"
        }
      },
      "execution_count": 4,
      "outputs": [
        {
          "output_type": "execute_result",
          "data": {
            "text/plain": [
              "0"
            ]
          },
          "metadata": {},
          "execution_count": 4
        }
      ]
    },
    {
      "cell_type": "markdown",
      "source": [
        "There is no null value in the dataset"
      ],
      "metadata": {
        "id": "y4dOiOhawgrr"
      }
    },
    {
      "cell_type": "code",
      "source": [
        "dataset['class'].unique()"
      ],
      "metadata": {
        "execution": {
          "iopub.status.busy": "2021-08-26T18:33:18.752373Z",
          "iopub.execute_input": "2021-08-26T18:33:18.752822Z",
          "iopub.status.idle": "2021-08-26T18:33:18.764603Z",
          "shell.execute_reply.started": "2021-08-26T18:33:18.752773Z",
          "shell.execute_reply": "2021-08-26T18:33:18.763262Z"
        },
        "trusted": true,
        "id": "Z71pDcJlwgrr",
        "outputId": "78f4074d-4162-4d5b-8167-752db092ce9a",
        "colab": {
          "base_uri": "https://localhost:8080/"
        }
      },
      "execution_count": 5,
      "outputs": [
        {
          "output_type": "execute_result",
          "data": {
            "text/plain": [
              "array(['p', 'e'], dtype=object)"
            ]
          },
          "metadata": {},
          "execution_count": 5
        }
      ]
    },
    {
      "cell_type": "markdown",
      "source": [
        "The class column is target and it has two clasification which describes if mushroom is poisonous or edible. In class column posionous is p and edible is e."
      ],
      "metadata": {
        "id": "ZisOd4oYwgrs"
      }
    },
    {
      "cell_type": "code",
      "source": [
        "# To see if there is any null values in the dataset\n",
        "dataset.info()"
      ],
      "metadata": {
        "execution": {
          "iopub.status.busy": "2021-08-26T18:33:18.766214Z",
          "iopub.execute_input": "2021-08-26T18:33:18.766671Z",
          "iopub.status.idle": "2021-08-26T18:33:18.811247Z",
          "shell.execute_reply.started": "2021-08-26T18:33:18.766634Z",
          "shell.execute_reply": "2021-08-26T18:33:18.809227Z"
        },
        "trusted": true,
        "id": "CiBxr344wgrs",
        "outputId": "2a43557c-86f5-48a8-ea65-6723caa422f1",
        "colab": {
          "base_uri": "https://localhost:8080/"
        }
      },
      "execution_count": 6,
      "outputs": [
        {
          "output_type": "stream",
          "name": "stdout",
          "text": [
            "<class 'pandas.core.frame.DataFrame'>\n",
            "RangeIndex: 8124 entries, 0 to 8123\n",
            "Data columns (total 23 columns):\n",
            " #   Column                    Non-Null Count  Dtype \n",
            "---  ------                    --------------  ----- \n",
            " 0   class                     8124 non-null   object\n",
            " 1   cap-shape                 8124 non-null   object\n",
            " 2   cap-surface               8124 non-null   object\n",
            " 3   cap-color                 8124 non-null   object\n",
            " 4   bruises                   8124 non-null   object\n",
            " 5   odor                      8124 non-null   object\n",
            " 6   gill-attachment           8124 non-null   object\n",
            " 7   gill-spacing              8124 non-null   object\n",
            " 8   gill-size                 8124 non-null   object\n",
            " 9   gill-color                8124 non-null   object\n",
            " 10  stalk-shape               8124 non-null   object\n",
            " 11  stalk-root                8124 non-null   object\n",
            " 12  stalk-surface-above-ring  8124 non-null   object\n",
            " 13  stalk-surface-below-ring  8124 non-null   object\n",
            " 14  stalk-color-above-ring    8124 non-null   object\n",
            " 15  stalk-color-below-ring    8124 non-null   object\n",
            " 16  veil-type                 8124 non-null   object\n",
            " 17  veil-color                8124 non-null   object\n",
            " 18  ring-number               8124 non-null   object\n",
            " 19  ring-type                 8124 non-null   object\n",
            " 20  spore-print-color         8124 non-null   object\n",
            " 21  population                8124 non-null   object\n",
            " 22  habitat                   8124 non-null   object\n",
            "dtypes: object(23)\n",
            "memory usage: 1.4+ MB\n"
          ]
        }
      ]
    },
    {
      "cell_type": "markdown",
      "source": [
        "All the features are categorical and there is no missing value."
      ],
      "metadata": {
        "id": "M-jvQpU8wgrs"
      }
    },
    {
      "cell_type": "code",
      "source": [
        "#To find number of rows and column\n",
        "dataset.shape"
      ],
      "metadata": {
        "execution": {
          "iopub.status.busy": "2021-08-26T18:33:18.812601Z",
          "iopub.execute_input": "2021-08-26T18:33:18.812916Z",
          "iopub.status.idle": "2021-08-26T18:33:18.818827Z",
          "shell.execute_reply.started": "2021-08-26T18:33:18.812878Z",
          "shell.execute_reply": "2021-08-26T18:33:18.817403Z"
        },
        "trusted": true,
        "id": "wEqNgTN0wgrs",
        "outputId": "4a9ead62-f9cf-4aeb-d7e9-ebdfc2244667",
        "colab": {
          "base_uri": "https://localhost:8080/"
        }
      },
      "execution_count": 7,
      "outputs": [
        {
          "output_type": "execute_result",
          "data": {
            "text/plain": [
              "(8124, 23)"
            ]
          },
          "metadata": {},
          "execution_count": 7
        }
      ]
    },
    {
      "cell_type": "markdown",
      "source": [
        "target class seperating"
      ],
      "metadata": {
        "id": "8c-Nw7kXxWoW"
      }
    },
    {
      "cell_type": "code",
      "source": [
        "X = dataset.drop(['class'],axis=1)\n",
        "y = dataset['class']"
      ],
      "metadata": {
        "execution": {
          "iopub.status.busy": "2021-08-26T18:24:15.743934Z",
          "iopub.execute_input": "2021-08-26T18:24:15.744293Z",
          "iopub.status.idle": "2021-08-26T18:24:15.751229Z",
          "shell.execute_reply.started": "2021-08-26T18:24:15.744262Z",
          "shell.execute_reply": "2021-08-26T18:24:15.750192Z"
        },
        "trusted": true,
        "id": "cgC_zBWXwgru"
      },
      "execution_count": 8,
      "outputs": []
    },
    {
      "cell_type": "markdown",
      "source": [
        "As all the values in the dataset are categorical.\n",
        "X can be encoded using pandas dummy variable and y using LabelEncoder.\n",
        "\n",
        "Dummy variable creates a separte column for each unique value of the column, where as LabelEncoder encodes target labels with value between 0 and n_classes-1. LabelEncoder should be used to encode target values, i.e. y, and not the input X."
      ],
      "metadata": {
        "id": "LK1H5wWQwgru"
      }
    },
    {
      "cell_type": "code",
      "source": [
        "X = pd.get_dummies(X)\n",
        "X.head()"
      ],
      "metadata": {
        "execution": {
          "iopub.status.busy": "2021-08-26T18:04:11.776383Z",
          "iopub.execute_input": "2021-08-26T18:04:11.77666Z",
          "iopub.status.idle": "2021-08-26T18:04:11.834564Z",
          "shell.execute_reply.started": "2021-08-26T18:04:11.776633Z",
          "shell.execute_reply": "2021-08-26T18:04:11.833514Z"
        },
        "trusted": true,
        "id": "WnxN0oeGwgru",
        "outputId": "3cca5033-91af-4933-b8fd-f3e4b6889776",
        "colab": {
          "base_uri": "https://localhost:8080/",
          "height": 273
        }
      },
      "execution_count": 9,
      "outputs": [
        {
          "output_type": "execute_result",
          "data": {
            "text/plain": [
              "   cap-shape_b  cap-shape_c  cap-shape_f  cap-shape_k  cap-shape_s  \\\n",
              "0        False        False        False        False        False   \n",
              "1        False        False        False        False        False   \n",
              "2         True        False        False        False        False   \n",
              "3        False        False        False        False        False   \n",
              "4        False        False        False        False        False   \n",
              "\n",
              "   cap-shape_x  cap-surface_f  cap-surface_g  cap-surface_s  cap-surface_y  \\\n",
              "0         True          False          False           True          False   \n",
              "1         True          False          False           True          False   \n",
              "2        False          False          False           True          False   \n",
              "3         True          False          False          False           True   \n",
              "4         True          False          False           True          False   \n",
              "\n",
              "   ...  population_s  population_v  population_y  habitat_d  habitat_g  \\\n",
              "0  ...          True         False         False      False      False   \n",
              "1  ...         False         False         False      False       True   \n",
              "2  ...         False         False         False      False      False   \n",
              "3  ...          True         False         False      False      False   \n",
              "4  ...         False         False         False      False       True   \n",
              "\n",
              "   habitat_l  habitat_m  habitat_p  habitat_u  habitat_w  \n",
              "0      False      False      False       True      False  \n",
              "1      False      False      False      False      False  \n",
              "2      False       True      False      False      False  \n",
              "3      False      False      False       True      False  \n",
              "4      False      False      False      False      False  \n",
              "\n",
              "[5 rows x 117 columns]"
            ],
            "text/html": [
              "\n",
              "  <div id=\"df-9c4c6a68-e68f-49dc-af25-7a10e74009aa\" class=\"colab-df-container\">\n",
              "    <div>\n",
              "<style scoped>\n",
              "    .dataframe tbody tr th:only-of-type {\n",
              "        vertical-align: middle;\n",
              "    }\n",
              "\n",
              "    .dataframe tbody tr th {\n",
              "        vertical-align: top;\n",
              "    }\n",
              "\n",
              "    .dataframe thead th {\n",
              "        text-align: right;\n",
              "    }\n",
              "</style>\n",
              "<table border=\"1\" class=\"dataframe\">\n",
              "  <thead>\n",
              "    <tr style=\"text-align: right;\">\n",
              "      <th></th>\n",
              "      <th>cap-shape_b</th>\n",
              "      <th>cap-shape_c</th>\n",
              "      <th>cap-shape_f</th>\n",
              "      <th>cap-shape_k</th>\n",
              "      <th>cap-shape_s</th>\n",
              "      <th>cap-shape_x</th>\n",
              "      <th>cap-surface_f</th>\n",
              "      <th>cap-surface_g</th>\n",
              "      <th>cap-surface_s</th>\n",
              "      <th>cap-surface_y</th>\n",
              "      <th>...</th>\n",
              "      <th>population_s</th>\n",
              "      <th>population_v</th>\n",
              "      <th>population_y</th>\n",
              "      <th>habitat_d</th>\n",
              "      <th>habitat_g</th>\n",
              "      <th>habitat_l</th>\n",
              "      <th>habitat_m</th>\n",
              "      <th>habitat_p</th>\n",
              "      <th>habitat_u</th>\n",
              "      <th>habitat_w</th>\n",
              "    </tr>\n",
              "  </thead>\n",
              "  <tbody>\n",
              "    <tr>\n",
              "      <th>0</th>\n",
              "      <td>False</td>\n",
              "      <td>False</td>\n",
              "      <td>False</td>\n",
              "      <td>False</td>\n",
              "      <td>False</td>\n",
              "      <td>True</td>\n",
              "      <td>False</td>\n",
              "      <td>False</td>\n",
              "      <td>True</td>\n",
              "      <td>False</td>\n",
              "      <td>...</td>\n",
              "      <td>True</td>\n",
              "      <td>False</td>\n",
              "      <td>False</td>\n",
              "      <td>False</td>\n",
              "      <td>False</td>\n",
              "      <td>False</td>\n",
              "      <td>False</td>\n",
              "      <td>False</td>\n",
              "      <td>True</td>\n",
              "      <td>False</td>\n",
              "    </tr>\n",
              "    <tr>\n",
              "      <th>1</th>\n",
              "      <td>False</td>\n",
              "      <td>False</td>\n",
              "      <td>False</td>\n",
              "      <td>False</td>\n",
              "      <td>False</td>\n",
              "      <td>True</td>\n",
              "      <td>False</td>\n",
              "      <td>False</td>\n",
              "      <td>True</td>\n",
              "      <td>False</td>\n",
              "      <td>...</td>\n",
              "      <td>False</td>\n",
              "      <td>False</td>\n",
              "      <td>False</td>\n",
              "      <td>False</td>\n",
              "      <td>True</td>\n",
              "      <td>False</td>\n",
              "      <td>False</td>\n",
              "      <td>False</td>\n",
              "      <td>False</td>\n",
              "      <td>False</td>\n",
              "    </tr>\n",
              "    <tr>\n",
              "      <th>2</th>\n",
              "      <td>True</td>\n",
              "      <td>False</td>\n",
              "      <td>False</td>\n",
              "      <td>False</td>\n",
              "      <td>False</td>\n",
              "      <td>False</td>\n",
              "      <td>False</td>\n",
              "      <td>False</td>\n",
              "      <td>True</td>\n",
              "      <td>False</td>\n",
              "      <td>...</td>\n",
              "      <td>False</td>\n",
              "      <td>False</td>\n",
              "      <td>False</td>\n",
              "      <td>False</td>\n",
              "      <td>False</td>\n",
              "      <td>False</td>\n",
              "      <td>True</td>\n",
              "      <td>False</td>\n",
              "      <td>False</td>\n",
              "      <td>False</td>\n",
              "    </tr>\n",
              "    <tr>\n",
              "      <th>3</th>\n",
              "      <td>False</td>\n",
              "      <td>False</td>\n",
              "      <td>False</td>\n",
              "      <td>False</td>\n",
              "      <td>False</td>\n",
              "      <td>True</td>\n",
              "      <td>False</td>\n",
              "      <td>False</td>\n",
              "      <td>False</td>\n",
              "      <td>True</td>\n",
              "      <td>...</td>\n",
              "      <td>True</td>\n",
              "      <td>False</td>\n",
              "      <td>False</td>\n",
              "      <td>False</td>\n",
              "      <td>False</td>\n",
              "      <td>False</td>\n",
              "      <td>False</td>\n",
              "      <td>False</td>\n",
              "      <td>True</td>\n",
              "      <td>False</td>\n",
              "    </tr>\n",
              "    <tr>\n",
              "      <th>4</th>\n",
              "      <td>False</td>\n",
              "      <td>False</td>\n",
              "      <td>False</td>\n",
              "      <td>False</td>\n",
              "      <td>False</td>\n",
              "      <td>True</td>\n",
              "      <td>False</td>\n",
              "      <td>False</td>\n",
              "      <td>True</td>\n",
              "      <td>False</td>\n",
              "      <td>...</td>\n",
              "      <td>False</td>\n",
              "      <td>False</td>\n",
              "      <td>False</td>\n",
              "      <td>False</td>\n",
              "      <td>True</td>\n",
              "      <td>False</td>\n",
              "      <td>False</td>\n",
              "      <td>False</td>\n",
              "      <td>False</td>\n",
              "      <td>False</td>\n",
              "    </tr>\n",
              "  </tbody>\n",
              "</table>\n",
              "<p>5 rows × 117 columns</p>\n",
              "</div>\n",
              "    <div class=\"colab-df-buttons\">\n",
              "\n",
              "  <div class=\"colab-df-container\">\n",
              "    <button class=\"colab-df-convert\" onclick=\"convertToInteractive('df-9c4c6a68-e68f-49dc-af25-7a10e74009aa')\"\n",
              "            title=\"Convert this dataframe to an interactive table.\"\n",
              "            style=\"display:none;\">\n",
              "\n",
              "  <svg xmlns=\"http://www.w3.org/2000/svg\" height=\"24px\" viewBox=\"0 -960 960 960\">\n",
              "    <path d=\"M120-120v-720h720v720H120Zm60-500h600v-160H180v160Zm220 220h160v-160H400v160Zm0 220h160v-160H400v160ZM180-400h160v-160H180v160Zm440 0h160v-160H620v160ZM180-180h160v-160H180v160Zm440 0h160v-160H620v160Z\"/>\n",
              "  </svg>\n",
              "    </button>\n",
              "\n",
              "  <style>\n",
              "    .colab-df-container {\n",
              "      display:flex;\n",
              "      gap: 12px;\n",
              "    }\n",
              "\n",
              "    .colab-df-convert {\n",
              "      background-color: #E8F0FE;\n",
              "      border: none;\n",
              "      border-radius: 50%;\n",
              "      cursor: pointer;\n",
              "      display: none;\n",
              "      fill: #1967D2;\n",
              "      height: 32px;\n",
              "      padding: 0 0 0 0;\n",
              "      width: 32px;\n",
              "    }\n",
              "\n",
              "    .colab-df-convert:hover {\n",
              "      background-color: #E2EBFA;\n",
              "      box-shadow: 0px 1px 2px rgba(60, 64, 67, 0.3), 0px 1px 3px 1px rgba(60, 64, 67, 0.15);\n",
              "      fill: #174EA6;\n",
              "    }\n",
              "\n",
              "    .colab-df-buttons div {\n",
              "      margin-bottom: 4px;\n",
              "    }\n",
              "\n",
              "    [theme=dark] .colab-df-convert {\n",
              "      background-color: #3B4455;\n",
              "      fill: #D2E3FC;\n",
              "    }\n",
              "\n",
              "    [theme=dark] .colab-df-convert:hover {\n",
              "      background-color: #434B5C;\n",
              "      box-shadow: 0px 1px 3px 1px rgba(0, 0, 0, 0.15);\n",
              "      filter: drop-shadow(0px 1px 2px rgba(0, 0, 0, 0.3));\n",
              "      fill: #FFFFFF;\n",
              "    }\n",
              "  </style>\n",
              "\n",
              "    <script>\n",
              "      const buttonEl =\n",
              "        document.querySelector('#df-9c4c6a68-e68f-49dc-af25-7a10e74009aa button.colab-df-convert');\n",
              "      buttonEl.style.display =\n",
              "        google.colab.kernel.accessAllowed ? 'block' : 'none';\n",
              "\n",
              "      async function convertToInteractive(key) {\n",
              "        const element = document.querySelector('#df-9c4c6a68-e68f-49dc-af25-7a10e74009aa');\n",
              "        const dataTable =\n",
              "          await google.colab.kernel.invokeFunction('convertToInteractive',\n",
              "                                                    [key], {});\n",
              "        if (!dataTable) return;\n",
              "\n",
              "        const docLinkHtml = 'Like what you see? Visit the ' +\n",
              "          '<a target=\"_blank\" href=https://colab.research.google.com/notebooks/data_table.ipynb>data table notebook</a>'\n",
              "          + ' to learn more about interactive tables.';\n",
              "        element.innerHTML = '';\n",
              "        dataTable['output_type'] = 'display_data';\n",
              "        await google.colab.output.renderOutput(dataTable, element);\n",
              "        const docLink = document.createElement('div');\n",
              "        docLink.innerHTML = docLinkHtml;\n",
              "        element.appendChild(docLink);\n",
              "      }\n",
              "    </script>\n",
              "  </div>\n",
              "\n",
              "\n",
              "<div id=\"df-4d547909-8e5e-4d40-a5b3-263433b0e7ad\">\n",
              "  <button class=\"colab-df-quickchart\" onclick=\"quickchart('df-4d547909-8e5e-4d40-a5b3-263433b0e7ad')\"\n",
              "            title=\"Suggest charts\"\n",
              "            style=\"display:none;\">\n",
              "\n",
              "<svg xmlns=\"http://www.w3.org/2000/svg\" height=\"24px\"viewBox=\"0 0 24 24\"\n",
              "     width=\"24px\">\n",
              "    <g>\n",
              "        <path d=\"M19 3H5c-1.1 0-2 .9-2 2v14c0 1.1.9 2 2 2h14c1.1 0 2-.9 2-2V5c0-1.1-.9-2-2-2zM9 17H7v-7h2v7zm4 0h-2V7h2v10zm4 0h-2v-4h2v4z\"/>\n",
              "    </g>\n",
              "</svg>\n",
              "  </button>\n",
              "\n",
              "<style>\n",
              "  .colab-df-quickchart {\n",
              "      --bg-color: #E8F0FE;\n",
              "      --fill-color: #1967D2;\n",
              "      --hover-bg-color: #E2EBFA;\n",
              "      --hover-fill-color: #174EA6;\n",
              "      --disabled-fill-color: #AAA;\n",
              "      --disabled-bg-color: #DDD;\n",
              "  }\n",
              "\n",
              "  [theme=dark] .colab-df-quickchart {\n",
              "      --bg-color: #3B4455;\n",
              "      --fill-color: #D2E3FC;\n",
              "      --hover-bg-color: #434B5C;\n",
              "      --hover-fill-color: #FFFFFF;\n",
              "      --disabled-bg-color: #3B4455;\n",
              "      --disabled-fill-color: #666;\n",
              "  }\n",
              "\n",
              "  .colab-df-quickchart {\n",
              "    background-color: var(--bg-color);\n",
              "    border: none;\n",
              "    border-radius: 50%;\n",
              "    cursor: pointer;\n",
              "    display: none;\n",
              "    fill: var(--fill-color);\n",
              "    height: 32px;\n",
              "    padding: 0;\n",
              "    width: 32px;\n",
              "  }\n",
              "\n",
              "  .colab-df-quickchart:hover {\n",
              "    background-color: var(--hover-bg-color);\n",
              "    box-shadow: 0 1px 2px rgba(60, 64, 67, 0.3), 0 1px 3px 1px rgba(60, 64, 67, 0.15);\n",
              "    fill: var(--button-hover-fill-color);\n",
              "  }\n",
              "\n",
              "  .colab-df-quickchart-complete:disabled,\n",
              "  .colab-df-quickchart-complete:disabled:hover {\n",
              "    background-color: var(--disabled-bg-color);\n",
              "    fill: var(--disabled-fill-color);\n",
              "    box-shadow: none;\n",
              "  }\n",
              "\n",
              "  .colab-df-spinner {\n",
              "    border: 2px solid var(--fill-color);\n",
              "    border-color: transparent;\n",
              "    border-bottom-color: var(--fill-color);\n",
              "    animation:\n",
              "      spin 1s steps(1) infinite;\n",
              "  }\n",
              "\n",
              "  @keyframes spin {\n",
              "    0% {\n",
              "      border-color: transparent;\n",
              "      border-bottom-color: var(--fill-color);\n",
              "      border-left-color: var(--fill-color);\n",
              "    }\n",
              "    20% {\n",
              "      border-color: transparent;\n",
              "      border-left-color: var(--fill-color);\n",
              "      border-top-color: var(--fill-color);\n",
              "    }\n",
              "    30% {\n",
              "      border-color: transparent;\n",
              "      border-left-color: var(--fill-color);\n",
              "      border-top-color: var(--fill-color);\n",
              "      border-right-color: var(--fill-color);\n",
              "    }\n",
              "    40% {\n",
              "      border-color: transparent;\n",
              "      border-right-color: var(--fill-color);\n",
              "      border-top-color: var(--fill-color);\n",
              "    }\n",
              "    60% {\n",
              "      border-color: transparent;\n",
              "      border-right-color: var(--fill-color);\n",
              "    }\n",
              "    80% {\n",
              "      border-color: transparent;\n",
              "      border-right-color: var(--fill-color);\n",
              "      border-bottom-color: var(--fill-color);\n",
              "    }\n",
              "    90% {\n",
              "      border-color: transparent;\n",
              "      border-bottom-color: var(--fill-color);\n",
              "    }\n",
              "  }\n",
              "</style>\n",
              "\n",
              "  <script>\n",
              "    async function quickchart(key) {\n",
              "      const quickchartButtonEl =\n",
              "        document.querySelector('#' + key + ' button');\n",
              "      quickchartButtonEl.disabled = true;  // To prevent multiple clicks.\n",
              "      quickchartButtonEl.classList.add('colab-df-spinner');\n",
              "      try {\n",
              "        const charts = await google.colab.kernel.invokeFunction(\n",
              "            'suggestCharts', [key], {});\n",
              "      } catch (error) {\n",
              "        console.error('Error during call to suggestCharts:', error);\n",
              "      }\n",
              "      quickchartButtonEl.classList.remove('colab-df-spinner');\n",
              "      quickchartButtonEl.classList.add('colab-df-quickchart-complete');\n",
              "    }\n",
              "    (() => {\n",
              "      let quickchartButtonEl =\n",
              "        document.querySelector('#df-4d547909-8e5e-4d40-a5b3-263433b0e7ad button');\n",
              "      quickchartButtonEl.style.display =\n",
              "        google.colab.kernel.accessAllowed ? 'block' : 'none';\n",
              "    })();\n",
              "  </script>\n",
              "</div>\n",
              "\n",
              "    </div>\n",
              "  </div>\n"
            ],
            "application/vnd.google.colaboratory.intrinsic+json": {
              "type": "dataframe",
              "variable_name": "X"
            }
          },
          "metadata": {},
          "execution_count": 9
        }
      ]
    },
    {
      "cell_type": "code",
      "source": [
        "from sklearn.preprocessing import LabelEncoder\n",
        "\n",
        "encoder = LabelEncoder()\n",
        "y = encoder.fit_transform(y)\n",
        "print(y)"
      ],
      "metadata": {
        "execution": {
          "iopub.status.busy": "2021-08-26T18:04:11.835705Z",
          "iopub.execute_input": "2021-08-26T18:04:11.83595Z",
          "iopub.status.idle": "2021-08-26T18:04:11.968055Z",
          "shell.execute_reply.started": "2021-08-26T18:04:11.835927Z",
          "shell.execute_reply": "2021-08-26T18:04:11.967075Z"
        },
        "trusted": true,
        "id": "H-B8-vbIwgrv",
        "outputId": "8aa2c317-48d3-4728-cc95-84b6072774fd",
        "colab": {
          "base_uri": "https://localhost:8080/"
        }
      },
      "execution_count": 10,
      "outputs": [
        {
          "output_type": "stream",
          "name": "stdout",
          "text": [
            "[1 0 0 ... 0 1 0]\n"
          ]
        }
      ]
    },
    {
      "cell_type": "markdown",
      "source": [
        "For y variable encoding is done as\n",
        "Poisonous = p -> 1\n",
        "Edible = e -> 0"
      ],
      "metadata": {
        "id": "oanTEFZrwgrv"
      }
    },
    {
      "cell_type": "markdown",
      "source": [
        "test train split"
      ],
      "metadata": {
        "id": "EExr8cIByEBP"
      }
    },
    {
      "cell_type": "code",
      "source": [
        "from sklearn.model_selection import train_test_split\n",
        "X_train, X_test, y_train, y_test = train_test_split(X, y, test_size=0.2, random_state=1)"
      ],
      "metadata": {
        "execution": {
          "iopub.status.busy": "2021-08-26T18:04:11.969201Z",
          "iopub.execute_input": "2021-08-26T18:04:11.969468Z",
          "iopub.status.idle": "2021-08-26T18:04:12.035408Z",
          "shell.execute_reply.started": "2021-08-26T18:04:11.969441Z",
          "shell.execute_reply": "2021-08-26T18:04:12.034472Z"
        },
        "trusted": true,
        "id": "Xi_E0vJ4wgr2"
      },
      "execution_count": 11,
      "outputs": []
    },
    {
      "cell_type": "code",
      "source": [
        "X_train.shape , X_test.shape"
      ],
      "metadata": {
        "execution": {
          "iopub.status.busy": "2021-08-26T18:04:12.037672Z",
          "iopub.execute_input": "2021-08-26T18:04:12.037976Z",
          "iopub.status.idle": "2021-08-26T18:04:12.044312Z",
          "shell.execute_reply.started": "2021-08-26T18:04:12.037934Z",
          "shell.execute_reply": "2021-08-26T18:04:12.043406Z"
        },
        "trusted": true,
        "id": "zy7XqsW-wgr2",
        "outputId": "9bb7e021-2648-41c6-c832-4ea4e332ca65",
        "colab": {
          "base_uri": "https://localhost:8080/"
        }
      },
      "execution_count": 12,
      "outputs": [
        {
          "output_type": "execute_result",
          "data": {
            "text/plain": [
              "((6499, 117), (1625, 117))"
            ]
          },
          "metadata": {},
          "execution_count": 12
        }
      ]
    },
    {
      "cell_type": "code",
      "source": [
        "y_train.shape , y_test.shape"
      ],
      "metadata": {
        "execution": {
          "iopub.status.busy": "2021-08-26T18:04:12.045681Z",
          "iopub.execute_input": "2021-08-26T18:04:12.046078Z",
          "iopub.status.idle": "2021-08-26T18:04:12.055462Z",
          "shell.execute_reply.started": "2021-08-26T18:04:12.046039Z",
          "shell.execute_reply": "2021-08-26T18:04:12.05443Z"
        },
        "trusted": true,
        "id": "vgAKgGTmwgr3",
        "outputId": "f8782bac-981d-4a6b-9840-77fdcedfaa3c",
        "colab": {
          "base_uri": "https://localhost:8080/"
        }
      },
      "execution_count": 13,
      "outputs": [
        {
          "output_type": "execute_result",
          "data": {
            "text/plain": [
              "((6499,), (1625,))"
            ]
          },
          "metadata": {},
          "execution_count": 13
        }
      ]
    },
    {
      "cell_type": "markdown",
      "source": [
        "model implementation"
      ],
      "metadata": {
        "id": "AH7IvhQPyWie"
      }
    },
    {
      "cell_type": "code",
      "source": [
        "from sklearn.tree import DecisionTreeClassifier\n",
        "from sklearn import tree"
      ],
      "metadata": {
        "execution": {
          "iopub.status.busy": "2021-08-26T18:04:12.056767Z",
          "iopub.execute_input": "2021-08-26T18:04:12.057477Z",
          "iopub.status.idle": "2021-08-26T18:04:12.221643Z",
          "shell.execute_reply.started": "2021-08-26T18:04:12.057406Z",
          "shell.execute_reply": "2021-08-26T18:04:12.220892Z"
        },
        "trusted": true,
        "id": "Zpvs6j5Pwgr3"
      },
      "execution_count": 14,
      "outputs": []
    },
    {
      "cell_type": "code",
      "source": [
        "from sklearn.metrics import accuracy_score"
      ],
      "metadata": {
        "execution": {
          "iopub.status.busy": "2021-08-26T18:04:12.222544Z",
          "iopub.execute_input": "2021-08-26T18:04:12.22293Z",
          "iopub.status.idle": "2021-08-26T18:04:12.226302Z",
          "shell.execute_reply.started": "2021-08-26T18:04:12.222901Z",
          "shell.execute_reply": "2021-08-26T18:04:12.225632Z"
        },
        "trusted": true,
        "id": "C9uqzTqbwgr3"
      },
      "execution_count": 15,
      "outputs": []
    },
    {
      "cell_type": "markdown",
      "source": [
        "using gini index"
      ],
      "metadata": {
        "id": "vfMXBFYI0GxX"
      }
    },
    {
      "cell_type": "code",
      "source": [
        "#Using the Decision Tree Classifier with splitting criterion as Gini impurity, the maximum depth of the tree is 4.\n",
        "\n",
        "clf_gini = DecisionTreeClassifier(criterion='gini', max_depth=4, random_state=0)\n",
        "\n",
        "# fit the model\n",
        "clf_gini.fit(X_train, y_train)"
      ],
      "metadata": {
        "execution": {
          "iopub.status.busy": "2021-08-26T18:04:12.227352Z",
          "iopub.execute_input": "2021-08-26T18:04:12.227728Z",
          "iopub.status.idle": "2021-08-26T18:04:12.264603Z",
          "shell.execute_reply.started": "2021-08-26T18:04:12.227702Z",
          "shell.execute_reply": "2021-08-26T18:04:12.26352Z"
        },
        "trusted": true,
        "id": "KEK1klrIwgr4",
        "outputId": "d7c7fd88-52ed-4903-807f-8f589ff108d7",
        "colab": {
          "base_uri": "https://localhost:8080/",
          "height": 75
        }
      },
      "execution_count": 21,
      "outputs": [
        {
          "output_type": "execute_result",
          "data": {
            "text/plain": [
              "DecisionTreeClassifier(max_depth=4, random_state=0)"
            ],
            "text/html": [
              "<style>#sk-container-id-4 {color: black;background-color: white;}#sk-container-id-4 pre{padding: 0;}#sk-container-id-4 div.sk-toggleable {background-color: white;}#sk-container-id-4 label.sk-toggleable__label {cursor: pointer;display: block;width: 100%;margin-bottom: 0;padding: 0.3em;box-sizing: border-box;text-align: center;}#sk-container-id-4 label.sk-toggleable__label-arrow:before {content: \"▸\";float: left;margin-right: 0.25em;color: #696969;}#sk-container-id-4 label.sk-toggleable__label-arrow:hover:before {color: black;}#sk-container-id-4 div.sk-estimator:hover label.sk-toggleable__label-arrow:before {color: black;}#sk-container-id-4 div.sk-toggleable__content {max-height: 0;max-width: 0;overflow: hidden;text-align: left;background-color: #f0f8ff;}#sk-container-id-4 div.sk-toggleable__content pre {margin: 0.2em;color: black;border-radius: 0.25em;background-color: #f0f8ff;}#sk-container-id-4 input.sk-toggleable__control:checked~div.sk-toggleable__content {max-height: 200px;max-width: 100%;overflow: auto;}#sk-container-id-4 input.sk-toggleable__control:checked~label.sk-toggleable__label-arrow:before {content: \"▾\";}#sk-container-id-4 div.sk-estimator input.sk-toggleable__control:checked~label.sk-toggleable__label {background-color: #d4ebff;}#sk-container-id-4 div.sk-label input.sk-toggleable__control:checked~label.sk-toggleable__label {background-color: #d4ebff;}#sk-container-id-4 input.sk-hidden--visually {border: 0;clip: rect(1px 1px 1px 1px);clip: rect(1px, 1px, 1px, 1px);height: 1px;margin: -1px;overflow: hidden;padding: 0;position: absolute;width: 1px;}#sk-container-id-4 div.sk-estimator {font-family: monospace;background-color: #f0f8ff;border: 1px dotted black;border-radius: 0.25em;box-sizing: border-box;margin-bottom: 0.5em;}#sk-container-id-4 div.sk-estimator:hover {background-color: #d4ebff;}#sk-container-id-4 div.sk-parallel-item::after {content: \"\";width: 100%;border-bottom: 1px solid gray;flex-grow: 1;}#sk-container-id-4 div.sk-label:hover label.sk-toggleable__label {background-color: #d4ebff;}#sk-container-id-4 div.sk-serial::before {content: \"\";position: absolute;border-left: 1px solid gray;box-sizing: border-box;top: 0;bottom: 0;left: 50%;z-index: 0;}#sk-container-id-4 div.sk-serial {display: flex;flex-direction: column;align-items: center;background-color: white;padding-right: 0.2em;padding-left: 0.2em;position: relative;}#sk-container-id-4 div.sk-item {position: relative;z-index: 1;}#sk-container-id-4 div.sk-parallel {display: flex;align-items: stretch;justify-content: center;background-color: white;position: relative;}#sk-container-id-4 div.sk-item::before, #sk-container-id-4 div.sk-parallel-item::before {content: \"\";position: absolute;border-left: 1px solid gray;box-sizing: border-box;top: 0;bottom: 0;left: 50%;z-index: -1;}#sk-container-id-4 div.sk-parallel-item {display: flex;flex-direction: column;z-index: 1;position: relative;background-color: white;}#sk-container-id-4 div.sk-parallel-item:first-child::after {align-self: flex-end;width: 50%;}#sk-container-id-4 div.sk-parallel-item:last-child::after {align-self: flex-start;width: 50%;}#sk-container-id-4 div.sk-parallel-item:only-child::after {width: 0;}#sk-container-id-4 div.sk-dashed-wrapped {border: 1px dashed gray;margin: 0 0.4em 0.5em 0.4em;box-sizing: border-box;padding-bottom: 0.4em;background-color: white;}#sk-container-id-4 div.sk-label label {font-family: monospace;font-weight: bold;display: inline-block;line-height: 1.2em;}#sk-container-id-4 div.sk-label-container {text-align: center;}#sk-container-id-4 div.sk-container {/* jupyter's `normalize.less` sets `[hidden] { display: none; }` but bootstrap.min.css set `[hidden] { display: none !important; }` so we also need the `!important` here to be able to override the default hidden behavior on the sphinx rendered scikit-learn.org. See: https://github.com/scikit-learn/scikit-learn/issues/21755 */display: inline-block !important;position: relative;}#sk-container-id-4 div.sk-text-repr-fallback {display: none;}</style><div id=\"sk-container-id-4\" class=\"sk-top-container\"><div class=\"sk-text-repr-fallback\"><pre>DecisionTreeClassifier(max_depth=4, random_state=0)</pre><b>In a Jupyter environment, please rerun this cell to show the HTML representation or trust the notebook. <br />On GitHub, the HTML representation is unable to render, please try loading this page with nbviewer.org.</b></div><div class=\"sk-container\" hidden><div class=\"sk-item\"><div class=\"sk-estimator sk-toggleable\"><input class=\"sk-toggleable__control sk-hidden--visually\" id=\"sk-estimator-id-4\" type=\"checkbox\" checked><label for=\"sk-estimator-id-4\" class=\"sk-toggleable__label sk-toggleable__label-arrow\">DecisionTreeClassifier</label><div class=\"sk-toggleable__content\"><pre>DecisionTreeClassifier(max_depth=4, random_state=0)</pre></div></div></div></div></div>"
            ]
          },
          "metadata": {},
          "execution_count": 21
        }
      ]
    },
    {
      "cell_type": "code",
      "source": [
        "#Plot the tree\n",
        "plt.figure(figsize=(12,8))\n",
        "\n",
        "tree.plot_tree(clf_gini.fit(X_train, y_train))"
      ],
      "metadata": {
        "execution": {
          "iopub.status.busy": "2021-08-26T18:04:12.265912Z",
          "iopub.execute_input": "2021-08-26T18:04:12.266261Z",
          "iopub.status.idle": "2021-08-26T18:04:13.107928Z",
          "shell.execute_reply.started": "2021-08-26T18:04:12.266231Z",
          "shell.execute_reply": "2021-08-26T18:04:13.106788Z"
        },
        "trusted": true,
        "id": "7qIDJrdFwgr4",
        "outputId": "e2d843fa-0888-4840-d865-60be88f813ed",
        "colab": {
          "base_uri": "https://localhost:8080/",
          "height": 983
        }
      },
      "execution_count": 22,
      "outputs": [
        {
          "output_type": "execute_result",
          "data": {
            "text/plain": [
              "[Text(0.5625, 0.9, 'x[27] <= 0.5\\ngini = 0.499\\nsamples = 6499\\nvalue = [3388, 3111]'),\n",
              " Text(0.3125, 0.7, 'x[53] <= 0.5\\ngini = 0.288\\nsamples = 3660\\nvalue = [637, 3023]'),\n",
              " Text(0.1875, 0.5, 'x[55] <= 0.5\\ngini = 0.135\\nsamples = 3229\\nvalue = [236, 2993]'),\n",
              " Text(0.125, 0.3, 'x[33] <= 0.5\\ngini = 0.055\\nsamples = 3080\\nvalue = [87, 2993]'),\n",
              " Text(0.0625, 0.1, 'gini = 0.495\\nsamples = 158\\nvalue = [87, 71]'),\n",
              " Text(0.1875, 0.1, 'gini = 0.0\\nsamples = 2922\\nvalue = [0, 2922]'),\n",
              " Text(0.25, 0.3, 'gini = 0.0\\nsamples = 149\\nvalue = [149, 0]'),\n",
              " Text(0.4375, 0.5, 'x[65] <= 0.5\\ngini = 0.13\\nsamples = 431\\nvalue = [401, 30]'),\n",
              " Text(0.375, 0.3, 'gini = 0.0\\nsamples = 401\\nvalue = [401, 0]'),\n",
              " Text(0.5, 0.3, 'gini = 0.0\\nsamples = 30\\nvalue = [0, 30]'),\n",
              " Text(0.8125, 0.7, 'x[100] <= 0.5\\ngini = 0.06\\nsamples = 2839\\nvalue = [2751, 88]'),\n",
              " Text(0.75, 0.5, 'x[63] <= 0.5\\ngini = 0.023\\nsamples = 2784\\nvalue = [2751, 33]'),\n",
              " Text(0.625, 0.3, 'x[7] <= 0.5\\ngini = 0.002\\nsamples = 2740\\nvalue = [2737, 3]'),\n",
              " Text(0.5625, 0.1, 'gini = 0.001\\nsamples = 2739\\nvalue = [2737, 2]'),\n",
              " Text(0.6875, 0.1, 'gini = 0.0\\nsamples = 1\\nvalue = [0, 1]'),\n",
              " Text(0.875, 0.3, 'x[36] <= 0.5\\ngini = 0.434\\nsamples = 44\\nvalue = [14, 30]'),\n",
              " Text(0.8125, 0.1, 'gini = 0.0\\nsamples = 14\\nvalue = [14, 0]'),\n",
              " Text(0.9375, 0.1, 'gini = 0.0\\nsamples = 30\\nvalue = [0, 30]'),\n",
              " Text(0.875, 0.5, 'gini = 0.0\\nsamples = 55\\nvalue = [0, 55]')]"
            ]
          },
          "metadata": {},
          "execution_count": 22
        },
        {
          "output_type": "display_data",
          "data": {
            "text/plain": [
              "<Figure size 1200x800 with 1 Axes>"
            ],
            "image/png": "[encoded data removed]"
          },
          "metadata": {}
        }
      ]
    },
    {
      "cell_type": "code",
      "source": [
        "#Predict the values\n",
        "y_pred_gini = clf_gini.predict(X_test)"
      ],
      "metadata": {
        "execution": {
          "iopub.status.busy": "2021-08-26T18:04:13.109441Z",
          "iopub.execute_input": "2021-08-26T18:04:13.109839Z",
          "iopub.status.idle": "2021-08-26T18:04:13.117288Z",
          "shell.execute_reply.started": "2021-08-26T18:04:13.109796Z",
          "shell.execute_reply": "2021-08-26T18:04:13.116146Z"
        },
        "trusted": true,
        "id": "YsGPI-WWwgr4"
      },
      "execution_count": 23,
      "outputs": []
    },
    {
      "cell_type": "markdown",
      "source": [
        "Overfitting occurs when accuracy for traning set is high and test set is very low comparing to training set. Overfitting is very common problem with decision tree."
      ],
      "metadata": {
        "id": "kxTfnEsswgr4"
      }
    },
    {
      "cell_type": "code",
      "source": [
        "#Predict the value using X train for accuracy comparision\n",
        "y_pred_train_gini = clf_gini.predict(X_train)\n",
        "\n",
        "y_pred_train_gini"
      ],
      "metadata": {
        "execution": {
          "iopub.status.busy": "2021-08-26T18:04:13.118828Z",
          "iopub.execute_input": "2021-08-26T18:04:13.11923Z",
          "iopub.status.idle": "2021-08-26T18:04:13.135677Z",
          "shell.execute_reply.started": "2021-08-26T18:04:13.119189Z",
          "shell.execute_reply": "2021-08-26T18:04:13.134533Z"
        },
        "trusted": true,
        "id": "aHxlTws_wgr4",
        "outputId": "01b2608f-66eb-47d6-b6b8-7282cd719998",
        "colab": {
          "base_uri": "https://localhost:8080/"
        }
      },
      "execution_count": 24,
      "outputs": [
        {
          "output_type": "execute_result",
          "data": {
            "text/plain": [
              "array([0, 0, 1, ..., 1, 0, 1])"
            ]
          },
          "metadata": {},
          "execution_count": 24
        }
      ]
    },
    {
      "cell_type": "code",
      "source": [
        "#Determine the accuracy score\n",
        "print('Model accuracy score with criterion gini index: {0:0.4f}'. format(accuracy_score(y_test, y_pred_gini)))\n",
        "#Accuracy Score for training set\n",
        "print('Training-set accuracy score: {0:0.4f}'. format(accuracy_score(y_train, y_pred_train_gini)))"
      ],
      "metadata": {
        "execution": {
          "iopub.status.busy": "2021-08-26T18:04:13.137211Z",
          "iopub.execute_input": "2021-08-26T18:04:13.137601Z",
          "iopub.status.idle": "2021-08-26T18:04:13.148261Z",
          "shell.execute_reply.started": "2021-08-26T18:04:13.137559Z",
          "shell.execute_reply": "2021-08-26T18:04:13.147162Z"
        },
        "trusted": true,
        "id": "0W9_IOT6wgr4",
        "outputId": "282bc87c-c3dd-49cd-ae6d-62fa98abac31",
        "colab": {
          "base_uri": "https://localhost:8080/"
        }
      },
      "execution_count": 25,
      "outputs": [
        {
          "output_type": "stream",
          "name": "stdout",
          "text": [
            "Model accuracy score with criterion gini index: 0.9834\n",
            "Training-set accuracy score: 0.9888\n"
          ]
        }
      ]
    },
    {
      "cell_type": "markdown",
      "source": [
        "using entropy"
      ],
      "metadata": {
        "id": "fkYQG7R70B6p"
      }
    },
    {
      "cell_type": "code",
      "source": [
        "clf_en = DecisionTreeClassifier(criterion='entropy', max_depth=3, random_state=0)\n",
        "\n",
        "\n",
        "# fit the model\n",
        "clf_en.fit(X_train, y_train)"
      ],
      "metadata": {
        "execution": {
          "iopub.status.busy": "2021-08-26T18:04:13.149784Z",
          "iopub.execute_input": "2021-08-26T18:04:13.150199Z",
          "iopub.status.idle": "2021-08-26T18:04:13.177618Z",
          "shell.execute_reply.started": "2021-08-26T18:04:13.150157Z",
          "shell.execute_reply": "2021-08-26T18:04:13.176904Z"
        },
        "trusted": true,
        "id": "VJEJZXY8wgr5",
        "outputId": "c6ac5332-927d-4fa9-c376-6cdb6b26fe7b",
        "colab": {
          "base_uri": "https://localhost:8080/",
          "height": 75
        }
      },
      "execution_count": 26,
      "outputs": [
        {
          "output_type": "execute_result",
          "data": {
            "text/plain": [
              "DecisionTreeClassifier(criterion='entropy', max_depth=3, random_state=0)"
            ],
            "text/html": [
              "<style>#sk-container-id-5 {color: black;background-color: white;}#sk-container-id-5 pre{padding: 0;}#sk-container-id-5 div.sk-toggleable {background-color: white;}#sk-container-id-5 label.sk-toggleable__label {cursor: pointer;display: block;width: 100%;margin-bottom: 0;padding: 0.3em;box-sizing: border-box;text-align: center;}#sk-container-id-5 label.sk-toggleable__label-arrow:before {content: \"▸\";float: left;margin-right: 0.25em;color: #696969;}#sk-container-id-5 label.sk-toggleable__label-arrow:hover:before {color: black;}#sk-container-id-5 div.sk-estimator:hover label.sk-toggleable__label-arrow:before {color: black;}#sk-container-id-5 div.sk-toggleable__content {max-height: 0;max-width: 0;overflow: hidden;text-align: left;background-color: #f0f8ff;}#sk-container-id-5 div.sk-toggleable__content pre {margin: 0.2em;color: black;border-radius: 0.25em;background-color: #f0f8ff;}#sk-container-id-5 input.sk-toggleable__control:checked~div.sk-toggleable__content {max-height: 200px;max-width: 100%;overflow: auto;}#sk-container-id-5 input.sk-toggleable__control:checked~label.sk-toggleable__label-arrow:before {content: \"▾\";}#sk-container-id-5 div.sk-estimator input.sk-toggleable__control:checked~label.sk-toggleable__label {background-color: #d4ebff;}#sk-container-id-5 div.sk-label input.sk-toggleable__control:checked~label.sk-toggleable__label {background-color: #d4ebff;}#sk-container-id-5 input.sk-hidden--visually {border: 0;clip: rect(1px 1px 1px 1px);clip: rect(1px, 1px, 1px, 1px);height: 1px;margin: -1px;overflow: hidden;padding: 0;position: absolute;width: 1px;}#sk-container-id-5 div.sk-estimator {font-family: monospace;background-color: #f0f8ff;border: 1px dotted black;border-radius: 0.25em;box-sizing: border-box;margin-bottom: 0.5em;}#sk-container-id-5 div.sk-estimator:hover {background-color: #d4ebff;}#sk-container-id-5 div.sk-parallel-item::after {content: \"\";width: 100%;border-bottom: 1px solid gray;flex-grow: 1;}#sk-container-id-5 div.sk-label:hover label.sk-toggleable__label {background-color: #d4ebff;}#sk-container-id-5 div.sk-serial::before {content: \"\";position: absolute;border-left: 1px solid gray;box-sizing: border-box;top: 0;bottom: 0;left: 50%;z-index: 0;}#sk-container-id-5 div.sk-serial {display: flex;flex-direction: column;align-items: center;background-color: white;padding-right: 0.2em;padding-left: 0.2em;position: relative;}#sk-container-id-5 div.sk-item {position: relative;z-index: 1;}#sk-container-id-5 div.sk-parallel {display: flex;align-items: stretch;justify-content: center;background-color: white;position: relative;}#sk-container-id-5 div.sk-item::before, #sk-container-id-5 div.sk-parallel-item::before {content: \"\";position: absolute;border-left: 1px solid gray;box-sizing: border-box;top: 0;bottom: 0;left: 50%;z-index: -1;}#sk-container-id-5 div.sk-parallel-item {display: flex;flex-direction: column;z-index: 1;position: relative;background-color: white;}#sk-container-id-5 div.sk-parallel-item:first-child::after {align-self: flex-end;width: 50%;}#sk-container-id-5 div.sk-parallel-item:last-child::after {align-self: flex-start;width: 50%;}#sk-container-id-5 div.sk-parallel-item:only-child::after {width: 0;}#sk-container-id-5 div.sk-dashed-wrapped {border: 1px dashed gray;margin: 0 0.4em 0.5em 0.4em;box-sizing: border-box;padding-bottom: 0.4em;background-color: white;}#sk-container-id-5 div.sk-label label {font-family: monospace;font-weight: bold;display: inline-block;line-height: 1.2em;}#sk-container-id-5 div.sk-label-container {text-align: center;}#sk-container-id-5 div.sk-container {/* jupyter's `normalize.less` sets `[hidden] { display: none; }` but bootstrap.min.css set `[hidden] { display: none !important; }` so we also need the `!important` here to be able to override the default hidden behavior on the sphinx rendered scikit-learn.org. See: https://github.com/scikit-learn/scikit-learn/issues/21755 */display: inline-block !important;position: relative;}#sk-container-id-5 div.sk-text-repr-fallback {display: none;}</style><div id=\"sk-container-id-5\" class=\"sk-top-container\"><div class=\"sk-text-repr-fallback\"><pre>DecisionTreeClassifier(criterion=&#x27;entropy&#x27;, max_depth=3, random_state=0)</pre><b>In a Jupyter environment, please rerun this cell to show the HTML representation or trust the notebook. <br />On GitHub, the HTML representation is unable to render, please try loading this page with nbviewer.org.</b></div><div class=\"sk-container\" hidden><div class=\"sk-item\"><div class=\"sk-estimator sk-toggleable\"><input class=\"sk-toggleable__control sk-hidden--visually\" id=\"sk-estimator-id-5\" type=\"checkbox\" checked><label for=\"sk-estimator-id-5\" class=\"sk-toggleable__label sk-toggleable__label-arrow\">DecisionTreeClassifier</label><div class=\"sk-toggleable__content\"><pre>DecisionTreeClassifier(criterion=&#x27;entropy&#x27;, max_depth=3, random_state=0)</pre></div></div></div></div></div>"
            ]
          },
          "metadata": {},
          "execution_count": 26
        }
      ]
    },
    {
      "cell_type": "code",
      "source": [
        "plt.figure(figsize=(12,8))\n",
        "tree.plot_tree(clf_en.fit(X_train, y_train))"
      ],
      "metadata": {
        "execution": {
          "iopub.status.busy": "2021-08-26T18:04:13.178445Z",
          "iopub.execute_input": "2021-08-26T18:04:13.178666Z",
          "iopub.status.idle": "2021-08-26T18:04:13.872904Z",
          "shell.execute_reply.started": "2021-08-26T18:04:13.178644Z",
          "shell.execute_reply": "2021-08-26T18:04:13.871789Z"
        },
        "trusted": true,
        "id": "-XoLuUAZwgr5",
        "outputId": "2f045a6b-2a27-42b9-b861-26524a78c743",
        "colab": {
          "base_uri": "https://localhost:8080/",
          "height": 844
        }
      },
      "execution_count": 27,
      "outputs": [
        {
          "output_type": "execute_result",
          "data": {
            "text/plain": [
              "[Text(0.5555555555555556, 0.875, 'x[27] <= 0.5\\nentropy = 0.999\\nsamples = 6499\\nvalue = [3388, 3111]'),\n",
              " Text(0.3333333333333333, 0.625, 'x[20] <= 0.5\\nentropy = 0.667\\nsamples = 3660\\nvalue = [637, 3023]'),\n",
              " Text(0.2222222222222222, 0.375, 'x[53] <= 0.5\\nentropy = 0.976\\nsamples = 1077\\nvalue = [637, 440]'),\n",
              " Text(0.1111111111111111, 0.125, 'entropy = 0.933\\nsamples = 676\\nvalue = [236, 440]'),\n",
              " Text(0.3333333333333333, 0.125, 'entropy = 0.0\\nsamples = 401\\nvalue = [401, 0]'),\n",
              " Text(0.4444444444444444, 0.375, 'entropy = 0.0\\nsamples = 2583\\nvalue = [0, 2583]'),\n",
              " Text(0.7777777777777778, 0.625, 'x[100] <= 0.5\\nentropy = 0.199\\nsamples = 2839\\nvalue = [2751, 88]'),\n",
              " Text(0.6666666666666666, 0.375, 'x[63] <= 0.5\\nentropy = 0.093\\nsamples = 2784\\nvalue = [2751, 33]'),\n",
              " Text(0.5555555555555556, 0.125, 'entropy = 0.012\\nsamples = 2740\\nvalue = [2737, 3]'),\n",
              " Text(0.7777777777777778, 0.125, 'entropy = 0.902\\nsamples = 44\\nvalue = [14, 30]'),\n",
              " Text(0.8888888888888888, 0.375, 'entropy = 0.0\\nsamples = 55\\nvalue = [0, 55]')]"
            ]
          },
          "metadata": {},
          "execution_count": 27
        },
        {
          "output_type": "display_data",
          "data": {
            "text/plain": [
              "<Figure size 1200x800 with 1 Axes>"
            ],
            "image/png": "[encoded data removed]"
          },
          "metadata": {}
        }
      ]
    },
    {
      "cell_type": "code",
      "source": [
        "#Predict the values\n",
        "y_pred_en = clf_en.predict(X_test)"
      ],
      "metadata": {
        "execution": {
          "iopub.status.busy": "2021-08-26T18:04:13.876322Z",
          "iopub.execute_input": "2021-08-26T18:04:13.87679Z",
          "iopub.status.idle": "2021-08-26T18:04:13.884707Z",
          "shell.execute_reply.started": "2021-08-26T18:04:13.876754Z",
          "shell.execute_reply": "2021-08-26T18:04:13.883801Z"
        },
        "trusted": true,
        "id": "TLIdmrlAwgr5"
      },
      "execution_count": 28,
      "outputs": []
    },
    {
      "cell_type": "code",
      "source": [
        "#Predict the value using X train for accuracy comparision\n",
        "y_pred_train_en = clf_en.predict(X_train)"
      ],
      "metadata": {
        "execution": {
          "iopub.status.busy": "2021-08-26T18:04:13.886189Z",
          "iopub.execute_input": "2021-08-26T18:04:13.886473Z",
          "iopub.status.idle": "2021-08-26T18:04:13.902741Z",
          "shell.execute_reply.started": "2021-08-26T18:04:13.886444Z",
          "shell.execute_reply": "2021-08-26T18:04:13.901468Z"
        },
        "trusted": true,
        "id": "7FoUi_aZwgr5"
      },
      "execution_count": 29,
      "outputs": []
    },
    {
      "cell_type": "code",
      "source": [
        "print('Model accuracy score with criterion entropy: {0:0.4f}'. format(accuracy_score(y_test, y_pred_en)))\n",
        "print('Training-set accuracy score: {0:0.4f}'. format(accuracy_score(y_train, y_pred_train_en)))"
      ],
      "metadata": {
        "execution": {
          "iopub.status.busy": "2021-08-26T18:04:13.904401Z",
          "iopub.execute_input": "2021-08-26T18:04:13.904726Z",
          "iopub.status.idle": "2021-08-26T18:04:13.91331Z",
          "shell.execute_reply.started": "2021-08-26T18:04:13.904697Z",
          "shell.execute_reply": "2021-08-26T18:04:13.91191Z"
        },
        "trusted": true,
        "id": "HWcZJ309wgr6",
        "outputId": "b1dbfd61-bd4c-497b-ac85-c429266df3fc",
        "colab": {
          "base_uri": "https://localhost:8080/"
        }
      },
      "execution_count": 30,
      "outputs": [
        {
          "output_type": "stream",
          "name": "stdout",
          "text": [
            "Model accuracy score with criterion entropy: 0.9637\n",
            "Training-set accuracy score: 0.9611\n"
          ]
        }
      ]
    },
    {
      "cell_type": "code",
      "source": [
        "print('Training set score: {:.4f}'.format(clf_en.score(X_train, y_train)))\n",
        "print('Test set score: {:.4f}'.format(clf_en.score(X_test, y_test)))"
      ],
      "metadata": {
        "execution": {
          "iopub.status.busy": "2021-08-26T18:04:13.91505Z",
          "iopub.execute_input": "2021-08-26T18:04:13.915468Z",
          "iopub.status.idle": "2021-08-26T18:04:13.932204Z",
          "shell.execute_reply.started": "2021-08-26T18:04:13.915422Z",
          "shell.execute_reply": "2021-08-26T18:04:13.931064Z"
        },
        "trusted": true,
        "id": "NoSm5VEywgr6",
        "outputId": "97d748f2-dcea-4af9-b9d5-86ecdf3568d1",
        "colab": {
          "base_uri": "https://localhost:8080/"
        }
      },
      "execution_count": 31,
      "outputs": [
        {
          "output_type": "stream",
          "name": "stdout",
          "text": [
            "Training set score: 0.9611\n",
            "Test set score: 0.9637\n"
          ]
        }
      ]
    },
    {
      "cell_type": "markdown",
      "source": [
        "confusion matrix"
      ],
      "metadata": {
        "id": "22QgxY430sxu"
      }
    },
    {
      "cell_type": "code",
      "source": [
        "from sklearn.metrics import confusion_matrix\n",
        "from sklearn.metrics import classification_report\n",
        "from sklearn.metrics import  f1_score"
      ],
      "metadata": {
        "execution": {
          "iopub.status.busy": "2021-08-26T18:04:13.933721Z",
          "iopub.execute_input": "2021-08-26T18:04:13.934177Z",
          "iopub.status.idle": "2021-08-26T18:04:13.940046Z",
          "shell.execute_reply.started": "2021-08-26T18:04:13.934131Z",
          "shell.execute_reply": "2021-08-26T18:04:13.938676Z"
        },
        "trusted": true,
        "id": "fU6h1Stywgr6"
      },
      "execution_count": 32,
      "outputs": []
    },
    {
      "cell_type": "code",
      "source": [
        "cm = confusion_matrix(y_test, y_pred_en)\n",
        "\n",
        "print('Confusion matrix\\n\\n', cm)"
      ],
      "metadata": {
        "execution": {
          "iopub.status.busy": "2021-08-26T18:04:13.941285Z",
          "iopub.execute_input": "2021-08-26T18:04:13.941568Z",
          "iopub.status.idle": "2021-08-26T18:04:13.956655Z",
          "shell.execute_reply.started": "2021-08-26T18:04:13.941543Z",
          "shell.execute_reply": "2021-08-26T18:04:13.955706Z"
        },
        "trusted": true,
        "id": "tQobuLOmwgr6",
        "outputId": "a7b6edfe-05cd-4129-8db0-4f8dbbc11497",
        "colab": {
          "base_uri": "https://localhost:8080/"
        }
      },
      "execution_count": 33,
      "outputs": [
        {
          "output_type": "stream",
          "name": "stdout",
          "text": [
            "Confusion matrix\n",
            "\n",
            " [[766  54]\n",
            " [  5 800]]\n"
          ]
        }
      ]
    }
  ]
}